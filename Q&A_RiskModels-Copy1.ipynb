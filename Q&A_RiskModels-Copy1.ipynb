{
 "cells": [
  {
   "cell_type": "markdown",
   "id": "5735261c-b8e8-4845-81f1-92db5055904b",
   "metadata": {},
   "source": [
    "### Probability of Default (PD)\n",
    "\n",
    "- Probability of Default (PD) is the likelihood that a borrower will fail to make the required payments on a debt within a specific timeframe, typically one year. It's a critical measure in credit risk assessment.\n",
    "\n",
    "\n",
    "- Factors influencing PD include:\n",
    "    - Financial health of the borrower\n",
    "    - Economic conditions\n",
    "    - Industry-specific risks\n",
    "    - Management quality (for businesses)\n",
    "    - Credit history\n",
    "    - Debt-to-income ratio (for individuals)\n",
    "    - Market conditions and competition (for businesses)\n",
    "\n",
    "- For individual borrowers, banks often use credit scores, income stability, and historical payment behavior. For corporate entities, banks employ more complex models considering financial ratios, market position, industry trends, and sometimes even qualitative factors like management quality."
   ]
  },
  {
   "cell_type": "code",
   "execution_count": null,
   "id": "a5a34170-4d1c-4f54-ba00-ca3882c16ec8",
   "metadata": {},
   "outputs": [],
   "source": [
    "### Loss Given Default (LGD)\n",
    "- Loss Given Default represents the proportion of the exposure that the bank expects to lose if a default occurs. It's crucial for calculating expected loss and determining appropriate loan pricing and capital requirements.\n",
    "\n",
    "- LGD calculation methodologies include:\n",
    "  - Workout LGD: Based on historical recovery data\n",
    "  - Market LGD: Derived from market prices of defaulted bonds or loans\n",
    "  Implied Market LGD: Extracted from risky bond prices\n",
    "Regulatory LGD: Prescribed by regulatory authorities for certain exposures\n",
    "Economic conditions significantly impact LGD. During economic downturns, asset values often decrease, leading to higher LGDs. Conversely, in strong economic conditions, recovery rates tend to be higher, resulting in lower LGDs."
   ]
  }
 ],
 "metadata": {
  "kernelspec": {
   "display_name": "Python 3 (ipykernel)",
   "language": "python",
   "name": "python3"
  },
  "language_info": {
   "codemirror_mode": {
    "name": "ipython",
    "version": 3
   },
   "file_extension": ".py",
   "mimetype": "text/x-python",
   "name": "python",
   "nbconvert_exporter": "python",
   "pygments_lexer": "ipython3",
   "version": "3.10.13"
  }
 },
 "nbformat": 4,
 "nbformat_minor": 5
}
