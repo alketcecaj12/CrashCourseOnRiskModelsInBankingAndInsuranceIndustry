{
 "cells": [
  {
   "cell_type": "markdown",
   "id": "c45d8dd4-268c-4da9-b2c0-cb5c14d39500",
   "metadata": {},
   "source": [
    "### Credit Conversion Factor"
   ]
  },
  {
   "cell_type": "markdown",
   "id": "0072f8f5-320b-47a8-bd59-b0a19ee919aa",
   "metadata": {},
   "source": [
    "A credit conversion factor (CCF) is a crucial concept in banking and finance used to estimate the potential credit risk associated with off-balance sheet items. It represents the likelihood that an off-balance sheet commitment, such as a loan guarantee or unused credit line, will convert into an on-balance sheet exposure1.\n"
   ]
  },
  {
   "cell_type": "markdown",
   "id": "b54a555d-c3d8-42f3-a8c4-1b1af7869f2a",
   "metadata": {},
   "source": [
    "#### Understanding Credit Conversion Factor\n",
    "\n",
    "The CCF is expressed as a percentage of the total commitment value and helps banks quantify the risk of off-balance sheet items. It plays a significant role in capital adequacy regulations by:\n",
    "Converting off-balance sheet exposures into credit equivalent amounts\n",
    "Estimating how much of an off-balance sheet exposure might become an on-balance sheet item if a borrower defaults\n",
    "Allowing regulators to factor the risk of off-balance sheet items into a bank's capital adequacy ratio1"
   ]
  },
  {
   "cell_type": "markdown",
   "id": "7ac1de7f-445b-4b50-9859-b50e07034aa0",
   "metadata": {},
   "source": [
    "## Real world example"
   ]
  },
  {
   "cell_type": "code",
   "execution_count": 2,
   "id": "292bffa0-a0fa-4eaf-86bb-9b36dfa39ad4",
   "metadata": {},
   "outputs": [
    {
     "data": {
      "text/html": [
       "<div>\n",
       "<style scoped>\n",
       "    .dataframe tbody tr th:only-of-type {\n",
       "        vertical-align: middle;\n",
       "    }\n",
       "\n",
       "    .dataframe tbody tr th {\n",
       "        vertical-align: top;\n",
       "    }\n",
       "\n",
       "    .dataframe thead th {\n",
       "        text-align: right;\n",
       "    }\n",
       "</style>\n",
       "<table border=\"1\" class=\"dataframe\">\n",
       "  <thead>\n",
       "    <tr style=\"text-align: right;\">\n",
       "      <th></th>\n",
       "      <th>Item</th>\n",
       "      <th>Notional Amount</th>\n",
       "      <th>CCF (%)</th>\n",
       "      <th>Credit Equivalent Amount</th>\n",
       "    </tr>\n",
       "  </thead>\n",
       "  <tbody>\n",
       "    <tr>\n",
       "      <th>0</th>\n",
       "      <td>Loan Guarantee</td>\n",
       "      <td>1000000</td>\n",
       "      <td>50</td>\n",
       "      <td>500000.0</td>\n",
       "    </tr>\n",
       "    <tr>\n",
       "      <th>1</th>\n",
       "      <td>Standby Letter of Credit</td>\n",
       "      <td>500000</td>\n",
       "      <td>20</td>\n",
       "      <td>100000.0</td>\n",
       "    </tr>\n",
       "    <tr>\n",
       "      <th>2</th>\n",
       "      <td>Unused Credit Line</td>\n",
       "      <td>200000</td>\n",
       "      <td>75</td>\n",
       "      <td>150000.0</td>\n",
       "    </tr>\n",
       "  </tbody>\n",
       "</table>\n",
       "</div>"
      ],
      "text/plain": [
       "                       Item  Notional Amount  CCF (%)  \\\n",
       "0            Loan Guarantee          1000000       50   \n",
       "1  Standby Letter of Credit           500000       20   \n",
       "2        Unused Credit Line           200000       75   \n",
       "\n",
       "   Credit Equivalent Amount  \n",
       "0                  500000.0  \n",
       "1                  100000.0  \n",
       "2                  150000.0  "
      ]
     },
     "execution_count": 2,
     "metadata": {},
     "output_type": "execute_result"
    }
   ],
   "source": [
    "import pandas as pd\n",
    "\n",
    "# Sample data of off-balance sheet items\n",
    "data = {\n",
    "    'Item': ['Loan Guarantee', 'Standby Letter of Credit', 'Unused Credit Line'],\n",
    "    'Notional Amount': [1000000, 500000, 200000],  # in dollars\n",
    "    'CCF (%)': [50, 20, 75]  # CCF percentages\n",
    "}\n",
    "\n",
    "df = pd.DataFrame(data)\n",
    "\n",
    "# Calculate the credit equivalent amount\n",
    "df['Credit Equivalent Amount'] = df['Notional Amount'] * df['CCF (%)'] / 100\n",
    "\n",
    "df"
   ]
  },
  {
   "cell_type": "markdown",
   "id": "5d66b3b1-5737-4de8-867d-3b0bde9f1782",
   "metadata": {},
   "source": [
    "### Interpretation of Results\n",
    "\n",
    "- 1- Loan Guarantee: With a notional amount of $1,000,000 and a CCF of 50%, the credit equivalent amount is $500,000. This means the bank considers half of the guarantee amount as potential on-balance sheet exposure.\n",
    "\n",
    "- 2- Standby Letter of Credit: For a $500,000 commitment with a 20% CCF, the credit equivalent amount is $100,000. This lower CCF reflects a lower risk of this item converting to an on-balance sheet exposure.\n",
    "\n",
    "- 3- Unused Credit Line: Despite having the lowest notional amount ($200,000), it has the highest CCF (75%), resulting in a credit equivalent amount of $150,000. This high CCF suggests a significant likelihood of this credit line being used in case of default.\n",
    "By using CCFs, banks can more accurately assess their total risk exposure, including both on-balance sheet and off-balance sheet items. This helps in maintaining adequate capital reserves and complying with regulatory requirements"
   ]
  },
  {
   "cell_type": "code",
   "execution_count": null,
   "id": "52aaadb8-4c83-4265-9637-1f305fa73dd6",
   "metadata": {},
   "outputs": [],
   "source": []
  },
  {
   "cell_type": "code",
   "execution_count": null,
   "id": "6ec71e70-5343-4ab7-be61-f8bc57466912",
   "metadata": {},
   "outputs": [],
   "source": []
  },
  {
   "cell_type": "code",
   "execution_count": null,
   "id": "482b678c-612d-403c-aaa4-318beaa7ea9a",
   "metadata": {},
   "outputs": [],
   "source": []
  },
  {
   "cell_type": "code",
   "execution_count": null,
   "id": "a37e48fe-9a61-4ab5-9025-f2fd4e5843bb",
   "metadata": {},
   "outputs": [],
   "source": []
  },
  {
   "cell_type": "code",
   "execution_count": null,
   "id": "a55d2f0c-71ae-4eaa-82e9-9adccd5b648f",
   "metadata": {},
   "outputs": [],
   "source": []
  },
  {
   "cell_type": "code",
   "execution_count": null,
   "id": "8d8e6676-89eb-433a-8ad0-9be9963adb8d",
   "metadata": {},
   "outputs": [],
   "source": []
  }
 ],
 "metadata": {
  "kernelspec": {
   "display_name": "Python 3 (ipykernel)",
   "language": "python",
   "name": "python3"
  },
  "language_info": {
   "codemirror_mode": {
    "name": "ipython",
    "version": 3
   },
   "file_extension": ".py",
   "mimetype": "text/x-python",
   "name": "python",
   "nbconvert_exporter": "python",
   "pygments_lexer": "ipython3",
   "version": "3.10.13"
  }
 },
 "nbformat": 4,
 "nbformat_minor": 5
}
