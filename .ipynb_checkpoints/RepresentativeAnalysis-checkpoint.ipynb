{
 "cells": [
  {
   "cell_type": "markdown",
   "id": "ade35e1f-49e2-4674-be88-53b5ecf70356",
   "metadata": {},
   "source": [
    "### Representative analysis is about checking PSI (population statibility index) in application and development data. \n",
    "- comparing the distributions for the risk charateristics variables \n",
    "\n",
    "- the findings can either conclude that the application data doest differ so much from the application data psi < 2.5\n",
    "\n",
    "- or that there is big difference and in that case the developement data has to change "
   ]
  },
  {
   "cell_type": "code",
   "execution_count": 3,
   "id": "4968cdad-a66b-43ea-b161-5ce26d7713f6",
   "metadata": {},
   "outputs": [
    {
     "name": "stdout",
     "output_type": "stream",
     "text": [
      "PSI between development and application dataset: 0.06987460233956508\n"
     ]
    }
   ],
   "source": [
    "import numpy as np\n",
    "import pandas as pd\n",
    "\n",
    "def population_stability_index(dev_data, app_data, col_name, num_bins=10):\n",
    "    # Establish bin edges based on the development data\n",
    "    min_value = dev_data[col_name].min()\n",
    "    max_value = dev_data[col_name].max()\n",
    "    bins = np.linspace(min_value, max_value, num_bins + 1)\n",
    "    # Bin both datasets using these edges\n",
    "    dev_binned = pd.cut(dev_data[col_name], bins=bins, include_lowest=True)\n",
    "    app_binned = pd.cut(app_data[col_name], bins=bins, include_lowest=True)\n",
    "    # Count observations in each bin\n",
    "    dev_counts = dev_binned.value_counts().sort_index()\n",
    "    app_counts = app_binned.value_counts().sort_index()\n",
    "    # Proportion of observations per bin\n",
    "    dev_percent = dev_counts / len(dev_data)\n",
    "    app_percent = app_counts / len(app_data)\n",
    "    # Small constant to avoid divide-by-zero errors\n",
    "    small_constant = 1e-10\n",
    "    dev_percent += small_constant\n",
    "    app_percent += small_constant\n",
    "    # PSI calculation\n",
    "    psi = ((app_percent - dev_percent) * np.log(app_percent / dev_percent)).sum()\n",
    "    return psi\n",
    "\n",
    "# Example data\n",
    "np.random.seed(42)\n",
    "# Development dataset: normal distribution (mean=50)\n",
    "dev_data = pd.DataFrame({'score': np.random.normal(loc=50, scale=10, size=1000)})\n",
    "# Application dataset: shifted normal distribution (mean=52)\n",
    "app_data = pd.DataFrame({'score': np.random.normal(loc=52, scale=10, size=1000)})\n",
    "\n",
    "# Calculate PSI\n",
    "psi_value = population_stability_index(dev_data, app_data, 'score', num_bins=10)\n",
    "print(\"PSI between development and application dataset:\", psi_value)\n"
   ]
  },
  {
   "cell_type": "markdown",
   "id": "a66e9d0f-057e-4cc7-9f0f-291c04958f1e",
   "metadata": {},
   "source": [
    "Interpretation of the value obtained above : \n",
    "\n",
    "\n",
    "- PSI < 0.1: Application data is similar to development data (model still relevant)\n",
    "\n",
    "- 0.1 ≤ PSI < 0.25: Some drift; monitor performance\n",
    "\n",
    "- PSI ≥ 0.25: Significant drift; consider retraining or recalibrating the model"
   ]
  },
  {
   "cell_type": "code",
   "execution_count": null,
   "id": "31c30a76-cd32-4b1f-a261-3daf37172c96",
   "metadata": {},
   "outputs": [],
   "source": []
  },
  {
   "cell_type": "code",
   "execution_count": null,
   "id": "16958859-944f-4dd3-948c-c2e40064c82a",
   "metadata": {},
   "outputs": [],
   "source": []
  },
  {
   "cell_type": "code",
   "execution_count": null,
   "id": "f5bd22d3-82a5-498e-ac08-ca8b67ee4695",
   "metadata": {},
   "outputs": [],
   "source": []
  },
  {
   "cell_type": "code",
   "execution_count": null,
   "id": "8ca73a58-91f2-47b5-b48f-e7648016729b",
   "metadata": {},
   "outputs": [],
   "source": []
  },
  {
   "cell_type": "code",
   "execution_count": null,
   "id": "c7cf03d5-1801-497a-9f54-e4550116ac64",
   "metadata": {},
   "outputs": [],
   "source": []
  }
 ],
 "metadata": {
  "kernelspec": {
   "display_name": "Python 3 (ipykernel)",
   "language": "python",
   "name": "python3"
  },
  "language_info": {
   "codemirror_mode": {
    "name": "ipython",
    "version": 3
   },
   "file_extension": ".py",
   "mimetype": "text/x-python",
   "name": "python",
   "nbconvert_exporter": "python",
   "pygments_lexer": "ipython3",
   "version": "3.10.13"
  }
 },
 "nbformat": 4,
 "nbformat_minor": 5
}
