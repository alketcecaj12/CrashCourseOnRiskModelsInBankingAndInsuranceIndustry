{
 "cells": [
  {
   "cell_type": "code",
   "execution_count": 14,
   "id": "5bb6f2d4-c7a5-45ec-a439-d2613f3aef9c",
   "metadata": {},
   "outputs": [
    {
     "name": "stdout",
     "output_type": "stream",
     "text": [
      "Model Accuracy: 0.675\n",
      "\n",
      "Confusion Matrix:\n",
      "[[102  26]\n",
      " [ 39  33]]\n",
      "\n",
      "Classification Report:\n",
      "              precision    recall  f1-score   support\n",
      "\n",
      "           0       0.72      0.80      0.76       128\n",
      "           1       0.56      0.46      0.50        72\n",
      "\n",
      "    accuracy                           0.68       200\n",
      "   macro avg       0.64      0.63      0.63       200\n",
      "weighted avg       0.66      0.68      0.67       200\n",
      "\n",
      "\n",
      "Feature Importance:\n",
      "             feature  importance\n",
      "3  years_in_business    0.262947\n",
      "2      current_ratio    0.260584\n",
      "1     debt_to_equity    0.253976\n",
      "0            revenue    0.222494\n",
      "\n",
      "Probability of Default for New Business: 0.48\n"
     ]
    },
    {
     "name": "stderr",
     "output_type": "stream",
     "text": [
      "/Users/alket/miniconda3/envs/myenv/lib/python3.10/site-packages/sklearn/base.py:464: UserWarning: X does not have valid feature names, but StandardScaler was fitted with feature names\n",
      "  warnings.warn(\n"
     ]
    }
   ],
   "source": [
    "import pandas as pd\n",
    "import numpy as np\n",
    "from sklearn.model_selection import train_test_split\n",
    "from sklearn.ensemble import RandomForestClassifier\n",
    "from sklearn.preprocessing import StandardScaler\n",
    "from sklearn.metrics import accuracy_score, confusion_matrix, classification_report\n",
    "\n",
    "# Set random seed for reproducibility\n",
    "np.random.seed(42)\n",
    "\n",
    "# Generate simulated data\n",
    "num_samples = 1000\n",
    "\n",
    "# Features\n",
    "revenue = np.random.randint(100000, 10000000, size=num_samples)  # Annual revenue\n",
    "debt_to_equity = np.random.uniform(0.0, 3.0, size=num_samples)  # Debt-to-equity ratio\n",
    "current_ratio = np.random.uniform(0.5, 3.0, size=num_samples)  # Current ratio\n",
    "years_in_business = np.random.randint(1, 50, size=num_samples)  # Years in business\n",
    "\n",
    "# Simulated default status based on some simple rules\n",
    "prob_default = (1 / (1 + np.exp(-0.5 * (debt_to_equity - 1.5) + 0.5 * (current_ratio - 1.5) - 0.00000005 * revenue + 0.05 * (years_in_business - 10))))\n",
    "\n",
    "default_status = np.random.binomial(1, prob_default, size=num_samples)\n",
    "\n",
    "# Create DataFrame\n",
    "simulated_data = pd.DataFrame({\n",
    "    'revenue': revenue,\n",
    "    'debt_to_equity': debt_to_equity,\n",
    "    'current_ratio': current_ratio,\n",
    "    'years_in_business': years_in_business,\n",
    "    'default_status': default_status\n",
    "})\n",
    "\n",
    "# Prepare the dataset\n",
    "X = simulated_data.drop('default_status', axis=1)\n",
    "y = simulated_data['default_status']\n",
    "\n",
    "# Split the data into training and testing sets\n",
    "X_train, X_test, y_train, y_test = train_test_split(X, y, test_size=0.2, random_state=42)\n",
    "\n",
    "# Scale the features\n",
    "scaler = StandardScaler()\n",
    "X_train_scaled = scaler.fit_transform(X_train)\n",
    "X_test_scaled = scaler.transform(X_test)\n",
    "\n",
    "# Train a Random Forest model\n",
    "rf_model = RandomForestClassifier(n_estimators=100, random_state=42)\n",
    "rf_model.fit(X_train_scaled, y_train)\n",
    "\n",
    "# Make predictions\n",
    "y_pred = rf_model.predict(X_test_scaled)\n",
    "\n",
    "# Evaluate the model\n",
    "accuracy = accuracy_score(y_test, y_pred)\n",
    "conf_matrix = confusion_matrix(y_test, y_pred)\n",
    "class_report = classification_report(y_test, y_pred)\n",
    "\n",
    "# Feature importance\n",
    "feature_importance = pd.DataFrame({\n",
    "    'feature': X.columns,\n",
    "    'importance': rf_model.feature_importances_\n",
    "}).sort_values('importance', ascending=False)\n",
    "\n",
    "# Print results\n",
    "print(\"Model Accuracy:\", accuracy)\n",
    "print(\"\\nConfusion Matrix:\")\n",
    "print(conf_matrix)\n",
    "print(\"\\nClassification Report:\")\n",
    "print(class_report)\n",
    "print(\"\\nFeature Importance:\")\n",
    "print(feature_importance)\n",
    "\n",
    "# Calculate probability of default for a new business\n",
    "new_business = np.array([[5000000, 1.2, 1.8, 15]])  # Revenue, Debt-to-Equity, Current Ratio, Years in Business\n",
    "new_business_scaled = scaler.transform(new_business)\n",
    "pd_new_business = rf_model.predict_proba(new_business_scaled)[0][1]\n",
    "\n",
    "print(\"\\nProbability of Default for New Business:\", pd_new_business)"
   ]
  },
  {
   "cell_type": "code",
   "execution_count": null,
   "id": "6a5610be-6911-4129-9453-e62ac3c7e309",
   "metadata": {},
   "outputs": [],
   "source": []
  },
  {
   "cell_type": "code",
   "execution_count": null,
   "id": "aa1452d6-8600-4531-bd2f-7b5332b5af73",
   "metadata": {},
   "outputs": [],
   "source": []
  },
  {
   "cell_type": "code",
   "execution_count": null,
   "id": "0b1ef329-0e68-4693-acc7-fd36aac8a353",
   "metadata": {},
   "outputs": [],
   "source": []
  },
  {
   "cell_type": "code",
   "execution_count": null,
   "id": "21c3bbaf-4134-46ee-bbe3-4b5d6cff8998",
   "metadata": {},
   "outputs": [],
   "source": []
  },
  {
   "cell_type": "code",
   "execution_count": null,
   "id": "aba1d09e-807d-4033-9250-becdd083cf86",
   "metadata": {},
   "outputs": [],
   "source": []
  },
  {
   "cell_type": "code",
   "execution_count": null,
   "id": "e39239ee-1db1-4478-b65b-b3ec3a9002b1",
   "metadata": {},
   "outputs": [],
   "source": []
  },
  {
   "cell_type": "code",
   "execution_count": null,
   "id": "c6c9b314-e34f-4e52-88e0-4ef6d7983dcd",
   "metadata": {},
   "outputs": [],
   "source": []
  },
  {
   "cell_type": "code",
   "execution_count": null,
   "id": "4023445d-4901-4d9a-8cf7-7be8e011cc51",
   "metadata": {},
   "outputs": [],
   "source": []
  },
  {
   "cell_type": "code",
   "execution_count": null,
   "id": "f610077d-f2d5-4eab-99d9-110457ebf36b",
   "metadata": {},
   "outputs": [],
   "source": []
  }
 ],
 "metadata": {
  "kernelspec": {
   "display_name": "Python 3 (ipykernel)",
   "language": "python",
   "name": "python3"
  },
  "language_info": {
   "codemirror_mode": {
    "name": "ipython",
    "version": 3
   },
   "file_extension": ".py",
   "mimetype": "text/x-python",
   "name": "python",
   "nbconvert_exporter": "python",
   "pygments_lexer": "ipython3",
   "version": "3.10.13"
  }
 },
 "nbformat": 4,
 "nbformat_minor": 5
}
