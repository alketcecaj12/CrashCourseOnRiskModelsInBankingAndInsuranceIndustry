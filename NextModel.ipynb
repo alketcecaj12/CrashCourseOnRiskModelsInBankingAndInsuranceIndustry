{
 "cells": [
  {
   "cell_type": "markdown",
   "id": "0aa1a50b-175b-4e7f-a4cd-de0064d0add6",
   "metadata": {},
   "source": [
    "### Value at Risk (VaR) Model\n",
    "VaR is a statistical measure that quantifies the potential loss in value of a portfolio over a defined period for a given confidence interval."
   ]
  },
  {
   "cell_type": "code",
   "execution_count": 1,
   "id": "4cdc75a6-60f4-4a10-8d34-c62022e58226",
   "metadata": {},
   "outputs": [
    {
     "name": "stderr",
     "output_type": "stream",
     "text": [
      "[*********************100%%**********************]  1 of 1 completed"
     ]
    },
    {
     "name": "stdout",
     "output_type": "stream",
     "text": [
      "95% VaR for AAPL: -3.24%\n"
     ]
    },
    {
     "name": "stderr",
     "output_type": "stream",
     "text": [
      "\n"
     ]
    }
   ],
   "source": [
    "import numpy as np\n",
    "import pandas as pd\n",
    "import yfinance as yf\n",
    "\n",
    "def calculate_var(returns, confidence_level=0.95):\n",
    "    return np.percentile(returns, (1 - confidence_level) * 100)\n",
    "\n",
    "# Fetch historical stock data\n",
    "ticker = \"AAPL\"\n",
    "data = yf.download(ticker, start=\"2020-01-01\", end=\"2023-12-31\")\n",
    "\n",
    "# Calculate daily returns\n",
    "returns = data['Adj Close'].pct_change().dropna()\n",
    "\n",
    "# Calculate VaR\n",
    "var_95 = calculate_var(returns, 0.95)\n",
    "print(f\"95% VaR for {ticker}: {var_95:.2%}\")"
   ]
  },
  {
   "cell_type": "code",
   "execution_count": null,
   "id": "dad8d2ad-4465-4fa4-873b-97dc4b4121e9",
   "metadata": {},
   "outputs": [],
   "source": []
  },
  {
   "cell_type": "code",
   "execution_count": null,
   "id": "451ac932-b20a-4672-9ca8-84ed778ee07c",
   "metadata": {},
   "outputs": [],
   "source": []
  },
  {
   "cell_type": "code",
   "execution_count": null,
   "id": "1d784c92-7a80-4887-9752-ae45cab30b9c",
   "metadata": {},
   "outputs": [],
   "source": []
  },
  {
   "cell_type": "code",
   "execution_count": null,
   "id": "0ca7637e-ef9c-48b6-9cf4-9ac0f1c30d5e",
   "metadata": {},
   "outputs": [],
   "source": []
  },
  {
   "cell_type": "code",
   "execution_count": null,
   "id": "b7fe77fa-d09a-4dd2-ad5a-1a32b3034580",
   "metadata": {},
   "outputs": [],
   "source": []
  },
  {
   "cell_type": "code",
   "execution_count": null,
   "id": "b8c1c867-d03e-4c85-bd44-891883a2505b",
   "metadata": {},
   "outputs": [],
   "source": []
  },
  {
   "cell_type": "code",
   "execution_count": null,
   "id": "7a92bce8-046a-47d6-bda6-65d50e71a054",
   "metadata": {},
   "outputs": [],
   "source": []
  }
 ],
 "metadata": {
  "kernelspec": {
   "display_name": "Python 3 (ipykernel)",
   "language": "python",
   "name": "python3"
  },
  "language_info": {
   "codemirror_mode": {
    "name": "ipython",
    "version": 3
   },
   "file_extension": ".py",
   "mimetype": "text/x-python",
   "name": "python",
   "nbconvert_exporter": "python",
   "pygments_lexer": "ipython3",
   "version": "3.10.13"
  }
 },
 "nbformat": 4,
 "nbformat_minor": 5
}
